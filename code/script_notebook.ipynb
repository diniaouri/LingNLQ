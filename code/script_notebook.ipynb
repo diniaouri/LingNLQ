{
 "cells": [
  {
   "cell_type": "markdown",
   "metadata": {},
   "source": [
    "## Importing Libraries"
   ]
  },
  {
   "cell_type": "code",
   "execution_count": 3,
   "metadata": {},
   "outputs": [],
   "source": [
    "## requirements\n",
    "# ! pip install cffi\n",
    "# ! pip install numpy\n",
    "# ! pip install torch\n",
    "# ! pip install tqdm\n",
    "# ! pip install fairseq"
   ]
  },
  {
   "cell_type": "code",
   "execution_count": 39,
   "metadata": {},
   "outputs": [],
   "source": [
    "## libraries\n",
    "from SPARQLWrapper import SPARQLWrapper, JSON\n",
    "import generator_utils as utils\n",
    "import subprocess\n",
    "import os\n",
    "import fairseq"
   ]
  },
  {
   "cell_type": "code",
   "execution_count": 40,
   "metadata": {},
   "outputs": [],
   "source": [
    "DDIR = 'data/LC-QUAD'\n",
    "MDIR = 'output/models'\n",
    "RDIR = 'results/result'\n",
    "SOURCE = 'source.txt'\n"
   ]
  },
  {
   "cell_type": "code",
   "execution_count": 41,
   "metadata": {},
   "outputs": [],
   "source": [
    "# Define the command to run the machine learning model\n",
    "bashCommand = f\"fairseq-interactive  --path {MDIR}/checkpoint_best.pt  {MDIR} --beam 5 --source-lang en --target-lang sparql     --tokenizer moses --input={SOURCE}\""
   ]
  },
  {
   "cell_type": "code",
   "execution_count": 42,
   "metadata": {},
   "outputs": [],
   "source": [
    "# Ask user for input\n",
    "question = input('write question:')\n",
    "# Write the input to a file\n",
    "with open(\"source.txt\", \"w\") as text_file:\n",
    "    text_file.write(\"%s\" % question)"
   ]
  },
  {
   "cell_type": "code",
   "execution_count": null,
   "metadata": {},
   "outputs": [],
   "source": [
    "# Run command line process to run the input through the model\n",
    "process = subprocess.Popen(bashCommand.split(), stdout=subprocess.PIPE)\n",
    "output, error = process.communicate()"
   ]
  },
  {
   "cell_type": "code",
   "execution_count": 45,
   "metadata": {},
   "outputs": [
    {
     "name": "stdout",
     "output_type": "stream",
     "text": [
      "\u001b[H\u001b[2Jwhere did anton ausserer die ?\n",
      "S-0\twhere did anton ausserer die ?\n",
      "SELECT DISTINCT ?uri WHERE{dbr:Anton_Ausserer dbo:deathPlace ?uri }\n"
     ]
    }
   ],
   "source": [
    "# Decode the output and split it into lines\n",
    "outputs = output.decode(\"utf-8\").split('\\n')\n",
    "# Clear the console\n",
    "os.system('clear')\n",
    "# Print the question\n",
    "print(question)\n",
    "# Print the output from the model\n",
    "print(outputs[0 ])\n",
    "# Extract the SPARQL query from the output\n",
    "query = outputs[2].split('\t')[2]\n",
    "query = query.replace('<', '').replace('>', '')\n",
    "query = utils.decode(query)\n",
    "print(query)"
   ]
  },
  {
   "cell_type": "code",
   "execution_count": 46,
   "metadata": {},
   "outputs": [],
   "source": [
    "# Send the SPARQL query to DBpedia\n",
    "sparql = SPARQLWrapper(\"http://dbpedia.org/sparql\")\n",
    "sparql.setReturnFormat(JSON)\n",
    "sparql.setQuery(query)  # the previous query as a literal string\n",
    "results = sparql.query().convert()"
   ]
  },
  {
   "cell_type": "code",
   "execution_count": 49,
   "metadata": {},
   "outputs": [
    {
     "name": "stdout",
     "output_type": "stream",
     "text": [
      "{'distinct': False, 'ordered': True, 'bindings': [{'uri': {'type': 'uri', 'value': 'http://dbpedia.org/resource/Austria'}}, {'uri': {'type': 'uri', 'value': 'http://dbpedia.org/resource/Graz'}}]}\n"
     ]
    }
   ],
   "source": [
    "# Print the results\n",
    "if results[\"results\"]:\n",
    "    print(results[\"results\"])\n",
    "else:\n",
    "    print(results)\n"
   ]
  }
 ],
 "metadata": {
  "interpreter": {
   "hash": "a2bb4b9a741dd0dd05efc707232b10ac834b3dc05e4e113d24ce871ed7e223ef"
  },
  "kernelspec": {
   "display_name": "Python 3.8.10 ('venv': venv)",
   "language": "python",
   "name": "python3"
  },
  "language_info": {
   "codemirror_mode": {
    "name": "ipython",
    "version": 3
   },
   "file_extension": ".py",
   "mimetype": "text/x-python",
   "name": "python",
   "nbconvert_exporter": "python",
   "pygments_lexer": "ipython3",
   "version": "3.8.10"
  },
  "orig_nbformat": 4
 },
 "nbformat": 4,
 "nbformat_minor": 2
}
